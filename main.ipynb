{
 "cells": [
  {
   "cell_type": "markdown",
   "metadata": {},
   "source": [
    "# The Impact of external factors on the stock market\n",
    "### Submitted By:  Amit Shukrun and Omer Ran Bashusha\n"
   ]
  },
  {
   "cell_type": "code",
   "execution_count": 6,
   "metadata": {},
   "outputs": [],
   "source": [
    "import os\n",
    "import json\n",
    "import time\n",
    "import tweepy\n",
    "import datetime\n",
    "import pandas as pd\n",
    "import numpy as np\n",
    "import seaborn as sns\n",
    "import matplotlib.pyplot as plt\n",
    "import matplotlib.dates as mdates\n",
    "from time import strptime\n",
    "from selenium import webdriver\n",
    "from sklearn import linear_model\n",
    "from sklearn.metrics import r2_score\n",
    "from webdriver_manager.chrome import ChromeDriverManager\n",
    "%matplotlib inline\n",
    "from matplotlib.dates import DateFormatter"
   ]
  },
  {
   "cell_type": "markdown",
   "metadata": {},
   "source": [
    "## Research question\n",
    "In our project we will examine whether external factors such as: people of high status and social influence affect the stock market.\n",
    "In addition, we will examine whether important dates have a direct impact on the stock market.\n"
   ]
  },
  {
   "cell_type": "markdown",
   "metadata": {},
   "source": [
    "#### S&P-500\n",
    "S&P-500 is a company well known around the world as a creator of financial market indices—widely used as investment benchmarks—a data source, and an issuer of credit ratings for companies and debt obligations. It's perhaps best-known for the popular and often-cited S&P 500 Index.\n",
    "\n",
    "\n",
    "The company's roots date back to the 1860s. Since 2016, with offices in 26 countries, its official corporate name has been S&P Global.\n",
    "\n",
    "\n",
    "KEY TAKEAWAYS:\n",
    "* S&P-500 is a leading index provider and data source of independent credit ratings.\n",
    "* The McGraw-Hill Cos. purchased S&P in 1966, and in 2016, the company became known as S&P Global.\n",
    "* Standard & Poor's is one of the largest credit rating agencies, assigning letter grades to companies and countries and the debt they issue on a scale of AAA to D, indicating their degree of investment risk.\n",
    "* The popular S&P 500 Index is perhaps Standard & Poor's best-known product.\n",
    "* The S&P 500 is the basis for many investments, including futures contracts, mutual funds, and ETFs."
   ]
  },
  {
   "cell_type": "markdown",
   "metadata": {},
   "source": [
    "#### Nasdaq\n",
    "Nasdaq is a global electronic marketplace for buying and selling securities. Nasdaq was created by the National Association of Securities Dealers (NASD), which is now known as the Financial Industry Regulatory Authority (FINRA). The marketplace was created so that investors could trade securities on a computerized, speedy, and transparent system, and it commenced operations on February 8, 1971.\n",
    "\n",
    "\n",
    "KEY TAKEAWAYS:\n",
    "* Nasdaq is a global electronic marketplace for buying and trading securities. It was the world's first electronic exchange. Most of the world's technology giants, including Apple and Facebook, are listed on the Nasdaq.\n",
    "* It operates 25 markets, one clearinghouse, and five central securities depositories in the United States and Europe.\n",
    "* The Nasdaq also lists popular cryptocurrencies."
   ]
  },
  {
   "cell_type": "markdown",
   "metadata": {},
   "source": [
    "#### Bitcoin\n",
    "Bitcoin, often described as a cryptocurrency, a virtual currency or a digital currency - is a type of money that is completely virtual.\n",
    "It's like an online version of cash. You can use it to buy products and services, but not many shops accept Bitcoin yet and some countries have banned it altogether.\n",
    "However, some companies are beginning to buy into its growing influence"
   ]
  },
  {
   "cell_type": "markdown",
   "metadata": {},
   "source": [
    "### create data freme:\n",
    "crowling on yahoo finance website and takes all the indices of those markets  \n",
    "s&p, nasdaq and bitcoin\n",
    "\n",
    "\n",
    "The challenges:\n",
    "* The site works in the form of data loading dynamically so we had to combine the crowling with selenium\n",
    "* We have created a generic function that accepts each index one after the other and puts them all into one datafame"
   ]
  },
  {
   "cell_type": "code",
   "execution_count": 7,
   "metadata": {},
   "outputs": [],
   "source": [
    "stocks_symbol = {\"s&p\": \"%5EGSPC\", \"nasdaq\": \"%5EIXIC\", \"bitcoin\": \"BTC-USD\"}\n",
    "base_url = f\"https://finance.yahoo.com/quote/\"\n",
    "date_range = f\"/history?period1=1420070400&period2=1622505600&interval=1d&filter=history&frequency=1d&includeAdjustedClose=true\"\n",
    "driver = None\n",
    "stocks_data = {}\n",
    "\n",
    "\n",
    "def loading_page(url, stock):\n",
    "    driver = webdriver.Chrome(executable_path=ChromeDriverManager().install())\n",
    "    driver.implicitly_wait(30)\n",
    "    driver.get(url)\n",
    "    eop = driver.find_element_by_xpath('//span[contains(text(),\"Close price adjusted for splits\")]')\n",
    "    for x in range(50):\n",
    "        driver.execute_script(\"arguments[0].scrollIntoView();\", eop)\n",
    "        time.sleep(0.5)\n",
    "    right_table = driver.find_element_by_tag_name('tbody')\n",
    "    columns = {\"date\": [], f\"{stock}_open\": [], f\"{stock}_high\": [], f\"{stock}_low\": [], f\"{stock}_close\": [], f\"{stock}_adj\": [], f\"{stock}_volume\": []}\n",
    "    for row in right_table.find_elements_by_tag_name('tr'):\n",
    "        cells = row.find_elements_by_tag_name('td')\n",
    "        if len(cells) == 7:\n",
    "            for column, num in zip(columns, range(len(columns))):\n",
    "                if stock == 'bitcoin' and cells[0].text not in stocks_data[\"date\"]:\n",
    "                    break\n",
    "                columns[column].append(cells[num].text)\n",
    "    stocks_data.update(columns)\n",
    "    driver.close()\n",
    "    return stocks_data"
   ]
  },
  {
   "cell_type": "code",
   "execution_count": 8,
   "metadata": {},
   "outputs": [],
   "source": [
    "def create_df():\n",
    "    for stock in stocks_symbol:\n",
    "        url = base_url + stocks_symbol[stock] + date_range\n",
    "        loading_page(url, stock)\n",
    "    df = pd.DataFrame(data=stocks_data)\n",
    "    return df"
   ]
  },
  {
   "cell_type": "code",
   "execution_count": 9,
   "metadata": {},
   "outputs": [
    {
     "name": "stderr",
     "output_type": "stream",
     "text": [
      "\n",
      "\n",
      "====== WebDriver manager ======\n",
      "Current google-chrome version is 91.0.4472\n",
      "Get LATEST driver version for 91.0.4472\n",
      "Driver [C:\\Users\\Amit Shukrun\\.wdm\\drivers\\chromedriver\\win32\\91.0.4472.101\\chromedriver.exe] found in cache\n",
      "\n",
      "\n",
      "====== WebDriver manager ======\n",
      "Current google-chrome version is 91.0.4472\n",
      "Get LATEST driver version for 91.0.4472\n",
      "Driver [C:\\Users\\Amit Shukrun\\.wdm\\drivers\\chromedriver\\win32\\91.0.4472.101\\chromedriver.exe] found in cache\n",
      "\n",
      "\n",
      "====== WebDriver manager ======\n",
      "Current google-chrome version is 91.0.4472\n",
      "Get LATEST driver version for 91.0.4472\n",
      "Driver [C:\\Users\\Amit Shukrun\\.wdm\\drivers\\chromedriver\\win32\\91.0.4472.101\\chromedriver.exe] found in cache\n"
     ]
    },
    {
     "data": {
      "text/html": [
       "<div>\n",
       "<style scoped>\n",
       "    .dataframe tbody tr th:only-of-type {\n",
       "        vertical-align: middle;\n",
       "    }\n",
       "\n",
       "    .dataframe tbody tr th {\n",
       "        vertical-align: top;\n",
       "    }\n",
       "\n",
       "    .dataframe thead th {\n",
       "        text-align: right;\n",
       "    }\n",
       "</style>\n",
       "<table border=\"1\" class=\"dataframe\">\n",
       "  <thead>\n",
       "    <tr style=\"text-align: right;\">\n",
       "      <th></th>\n",
       "      <th>date</th>\n",
       "      <th>s&amp;p_open</th>\n",
       "      <th>s&amp;p_high</th>\n",
       "      <th>s&amp;p_low</th>\n",
       "      <th>s&amp;p_close</th>\n",
       "      <th>s&amp;p_adj</th>\n",
       "      <th>s&amp;p_volume</th>\n",
       "      <th>nasdaq_open</th>\n",
       "      <th>nasdaq_high</th>\n",
       "      <th>nasdaq_low</th>\n",
       "      <th>nasdaq_close</th>\n",
       "      <th>nasdaq_adj</th>\n",
       "      <th>nasdaq_volume</th>\n",
       "      <th>bitcoin_open</th>\n",
       "      <th>bitcoin_high</th>\n",
       "      <th>bitcoin_low</th>\n",
       "      <th>bitcoin_close</th>\n",
       "      <th>bitcoin_adj</th>\n",
       "      <th>bitcoin_volume</th>\n",
       "    </tr>\n",
       "  </thead>\n",
       "  <tbody>\n",
       "    <tr>\n",
       "      <th>0</th>\n",
       "      <td>May 28, 2021</td>\n",
       "      <td>4,210.77</td>\n",
       "      <td>4,218.36</td>\n",
       "      <td>4,203.57</td>\n",
       "      <td>4,204.11</td>\n",
       "      <td>4,204.11</td>\n",
       "      <td>4,199,270,000</td>\n",
       "      <td>13,792.05</td>\n",
       "      <td>13,820.87</td>\n",
       "      <td>13,747.61</td>\n",
       "      <td>13,748.74</td>\n",
       "      <td>13,748.74</td>\n",
       "      <td>4,435,220,000</td>\n",
       "      <td>38,507.08</td>\n",
       "      <td>38,856.97</td>\n",
       "      <td>34,779.04</td>\n",
       "      <td>35,697.61</td>\n",
       "      <td>35,697.61</td>\n",
       "      <td>55,200,191,952</td>\n",
       "    </tr>\n",
       "    <tr>\n",
       "      <th>1</th>\n",
       "      <td>May 27, 2021</td>\n",
       "      <td>4,201.94</td>\n",
       "      <td>4,213.38</td>\n",
       "      <td>4,197.78</td>\n",
       "      <td>4,200.88</td>\n",
       "      <td>4,200.88</td>\n",
       "      <td>5,201,110,000</td>\n",
       "      <td>13,742.59</td>\n",
       "      <td>13,776.52</td>\n",
       "      <td>13,701.63</td>\n",
       "      <td>13,736.28</td>\n",
       "      <td>13,736.28</td>\n",
       "      <td>5,057,550,000</td>\n",
       "      <td>39,316.89</td>\n",
       "      <td>40,379.62</td>\n",
       "      <td>37,247.90</td>\n",
       "      <td>38,436.97</td>\n",
       "      <td>38,436.97</td>\n",
       "      <td>43,210,968,721</td>\n",
       "    </tr>\n",
       "    <tr>\n",
       "      <th>2</th>\n",
       "      <td>May 26, 2021</td>\n",
       "      <td>4,191.59</td>\n",
       "      <td>4,202.61</td>\n",
       "      <td>4,184.11</td>\n",
       "      <td>4,195.99</td>\n",
       "      <td>4,195.99</td>\n",
       "      <td>3,674,490,000</td>\n",
       "      <td>13,693.94</td>\n",
       "      <td>13,750.16</td>\n",
       "      <td>13,679.59</td>\n",
       "      <td>13,738.00</td>\n",
       "      <td>13,738.00</td>\n",
       "      <td>4,231,140,000</td>\n",
       "      <td>38,392.63</td>\n",
       "      <td>40,782.08</td>\n",
       "      <td>37,905.84</td>\n",
       "      <td>39,294.20</td>\n",
       "      <td>39,294.20</td>\n",
       "      <td>51,346,735,160</td>\n",
       "    </tr>\n",
       "    <tr>\n",
       "      <th>3</th>\n",
       "      <td>May 25, 2021</td>\n",
       "      <td>4,205.94</td>\n",
       "      <td>4,213.42</td>\n",
       "      <td>4,182.52</td>\n",
       "      <td>4,188.13</td>\n",
       "      <td>4,188.13</td>\n",
       "      <td>3,420,870,000</td>\n",
       "      <td>13,721.54</td>\n",
       "      <td>13,751.14</td>\n",
       "      <td>13,631.80</td>\n",
       "      <td>13,657.17</td>\n",
       "      <td>13,657.17</td>\n",
       "      <td>4,084,480,000</td>\n",
       "      <td>38,795.78</td>\n",
       "      <td>39,776.35</td>\n",
       "      <td>36,581.43</td>\n",
       "      <td>38,402.22</td>\n",
       "      <td>38,402.22</td>\n",
       "      <td>56,211,915,803</td>\n",
       "    </tr>\n",
       "    <tr>\n",
       "      <th>4</th>\n",
       "      <td>May 24, 2021</td>\n",
       "      <td>4,170.16</td>\n",
       "      <td>4,209.52</td>\n",
       "      <td>4,170.16</td>\n",
       "      <td>4,197.05</td>\n",
       "      <td>4,197.05</td>\n",
       "      <td>2,947,400,000</td>\n",
       "      <td>13,557.21</td>\n",
       "      <td>13,708.85</td>\n",
       "      <td>13,551.01</td>\n",
       "      <td>13,661.17</td>\n",
       "      <td>13,661.17</td>\n",
       "      <td>3,490,650,000</td>\n",
       "      <td>34,700.36</td>\n",
       "      <td>39,835.14</td>\n",
       "      <td>34,551.08</td>\n",
       "      <td>38,705.98</td>\n",
       "      <td>38,705.98</td>\n",
       "      <td>67,359,584,098</td>\n",
       "    </tr>\n",
       "  </tbody>\n",
       "</table>\n",
       "</div>"
      ],
      "text/plain": [
       "           date  s&p_open  s&p_high   s&p_low s&p_close   s&p_adj  \\\n",
       "0  May 28, 2021  4,210.77  4,218.36  4,203.57  4,204.11  4,204.11   \n",
       "1  May 27, 2021  4,201.94  4,213.38  4,197.78  4,200.88  4,200.88   \n",
       "2  May 26, 2021  4,191.59  4,202.61  4,184.11  4,195.99  4,195.99   \n",
       "3  May 25, 2021  4,205.94  4,213.42  4,182.52  4,188.13  4,188.13   \n",
       "4  May 24, 2021  4,170.16  4,209.52  4,170.16  4,197.05  4,197.05   \n",
       "\n",
       "      s&p_volume nasdaq_open nasdaq_high nasdaq_low nasdaq_close nasdaq_adj  \\\n",
       "0  4,199,270,000   13,792.05   13,820.87  13,747.61    13,748.74  13,748.74   \n",
       "1  5,201,110,000   13,742.59   13,776.52  13,701.63    13,736.28  13,736.28   \n",
       "2  3,674,490,000   13,693.94   13,750.16  13,679.59    13,738.00  13,738.00   \n",
       "3  3,420,870,000   13,721.54   13,751.14  13,631.80    13,657.17  13,657.17   \n",
       "4  2,947,400,000   13,557.21   13,708.85  13,551.01    13,661.17  13,661.17   \n",
       "\n",
       "   nasdaq_volume bitcoin_open bitcoin_high bitcoin_low bitcoin_close  \\\n",
       "0  4,435,220,000    38,507.08    38,856.97   34,779.04     35,697.61   \n",
       "1  5,057,550,000    39,316.89    40,379.62   37,247.90     38,436.97   \n",
       "2  4,231,140,000    38,392.63    40,782.08   37,905.84     39,294.20   \n",
       "3  4,084,480,000    38,795.78    39,776.35   36,581.43     38,402.22   \n",
       "4  3,490,650,000    34,700.36    39,835.14   34,551.08     38,705.98   \n",
       "\n",
       "  bitcoin_adj  bitcoin_volume  \n",
       "0   35,697.61  55,200,191,952  \n",
       "1   38,436.97  43,210,968,721  \n",
       "2   39,294.20  51,346,735,160  \n",
       "3   38,402.22  56,211,915,803  \n",
       "4   38,705.98  67,359,584,098  "
      ]
     },
     "execution_count": 9,
     "metadata": {},
     "output_type": "execute_result"
    }
   ],
   "source": [
    "stock_df = create_df()\n",
    "stock_df.head()"
   ]
  },
  {
   "cell_type": "code",
   "execution_count": 10,
   "metadata": {},
   "outputs": [
    {
     "name": "stderr",
     "output_type": "stream",
     "text": [
      "\n",
      "\n",
      "====== WebDriver manager ======\n",
      "Current google-chrome version is 91.0.4472\n",
      "Get LATEST driver version for 91.0.4472\n",
      "Driver [C:\\Users\\Amit Shukrun\\.wdm\\drivers\\chromedriver\\win32\\91.0.4472.101\\chromedriver.exe] found in cache\n"
     ]
    }
   ],
   "source": [
    "stocks_data = {}\n",
    "date_range = f\"/history?period1=1604739200&period2=1624908123&interval=1d&filter=history&frequency=1d&includeAdjustedClose=true\"\n",
    "url = base_url + \"DOGE-USD\" + date_range\n",
    "stock_data = loading_page(url, \"DogiCoin\")\n",
    "doge_df = pd.DataFrame(data=stocks_data)"
   ]
  },
  {
   "cell_type": "markdown",
   "metadata": {},
   "source": [
    "__________________________\n",
    "## data handling"
   ]
  },
  {
   "cell_type": "markdown",
   "metadata": {},
   "source": [
    "remove_duplicatives makes sure that there is not duplicate rows in the dataframe:"
   ]
  },
  {
   "cell_type": "code",
   "execution_count": 11,
   "metadata": {},
   "outputs": [],
   "source": [
    "def remove_duplicatives(df):\n",
    "    return df.drop_duplicates(subset=['date'], keep='first')"
   ]
  },
  {
   "cell_type": "markdown",
   "metadata": {},
   "source": [
    "convert_datetime_sec takes the dataframe and convert the dates to number of seconds.\n",
    "\n",
    "The function is designed to convert the date to seconds so that later we can compare the dates of other dataframes."
   ]
  },
  {
   "cell_type": "code",
   "execution_count": 83,
   "metadata": {},
   "outputs": [],
   "source": [
    "def convert_datetime_sec(df):\n",
    "    for date_tweet in df.date:\n",
    "        old_date = str(date_tweet)\n",
    "        split_date = old_date.split(\" \")\n",
    "        if hasattr(df, 's&p_open') or hasattr(df, 'DogiCoin_open'):\n",
    "            m = strptime(split_date[0], '%b').tm_mon\n",
    "            d = split_date[1][:2]\n",
    "            y = split_date[2]\n",
    "            if m < 10:\n",
    "                m = f\"0{m}\"\n",
    "        elif hasattr(df, 'Trump_Tweet'):\n",
    "            y = int(split_date[2]) + 2000\n",
    "            d = split_date[0]\n",
    "            m = strptime(split_date[1], '%b').tm_mon\n",
    "            if m < 10:\n",
    "                m = f\"0{m}\"\n",
    "        else:\n",
    "            elon_split = split_date[0].split(\"-\")\n",
    "            d = elon_split[2]\n",
    "            y = elon_split[0]\n",
    "            m = elon_split[1]\n",
    "        \n",
    "        df.loc[df.date == date_tweet, 'date'] = int(datetime.datetime(int(y), int(m), int(d), 0, 0).timestamp())\n",
    "    return df\n"
   ]
  },
  {
   "cell_type": "markdown",
   "metadata": {},
   "source": [
    "convert_str_to_num takes the columns of stocks market and convert them to numbers - So that we can display them on the graphs and put them into the model"
   ]
  },
  {
   "cell_type": "code",
   "execution_count": 84,
   "metadata": {},
   "outputs": [],
   "source": [
    "def convert_str_to_num(df):\n",
    "    for column in df.columns:\n",
    "        if column == 'date':\n",
    "            continue\n",
    "        for row in df[column]:\n",
    "            if type(row) == str:\n",
    "                new_value = row.replace(\",\", \"\")\n",
    "            try:\n",
    "                df.loc[df[column] == row, column] = float(new_value)\n",
    "            except Exception:\n",
    "                df.loc[df[column] == row, column] = 0\n",
    "    return df"
   ]
  },
  {
   "cell_type": "markdown",
   "metadata": {},
   "source": [
    "compare_dates_df_stock create list of numbers (1 or 0) - if the date on the dataframe is equal to the date on the list (call \"dates\") so add 1, else add 0. \n",
    "\n",
    "The purpose of the function is to show on which day of trading there were also special cases (e.g .: tweets of influencers, holidays, etc ..)"
   ]
  },
  {
   "cell_type": "code",
   "execution_count": 85,
   "metadata": {},
   "outputs": [],
   "source": [
    "def compare_dates_df_stock(stock_df, dates):\n",
    "    is_exist_column = []\n",
    "    for stock_date in stock_df['date']:\n",
    "        flag = False\n",
    "        for date in dates:\n",
    "            if stock_date == date:\n",
    "                flag = True\n",
    "                break\n",
    "        if flag:\n",
    "            is_exist_column.append(1)\n",
    "        else:\n",
    "            is_exist_column.append(0)\n",
    "    return is_exist_column"
   ]
  },
  {
   "cell_type": "markdown",
   "metadata": {},
   "source": [
    "create_holidays_date convert he function is designed to convert the date to seconds so that later we can compare the dates of other dataframes."
   ]
  },
  {
   "cell_type": "code",
   "execution_count": 117,
   "metadata": {},
   "outputs": [],
   "source": [
    "def create_holidays_date():\n",
    "    holidays = []\n",
    "    dates = []\n",
    "    with open('holidays1.json') as json_file:\n",
    "        data = json.load(json_file)\n",
    "    for holiday in data:\n",
    "        holidays.extend(data[holiday])\n",
    "    for day in holidays:\n",
    "        split_date = day.split(\"-\")\n",
    "        m = split_date[1]\n",
    "        d = split_date[0]\n",
    "        y = split_date[2]\n",
    "        dates.append(int(datetime.datetime(int(y), int(m), int(d), 0, 0).timestamp()))\n",
    "    data = np.array(dates)\n",
    "    return pd.Series(data)\n"
   ]
  },
  {
   "cell_type": "code",
   "execution_count": 118,
   "metadata": {},
   "outputs": [],
   "source": [
    "def convert_str_to_date(df, name_col):\n",
    "    for date_df in df[name_col]:\n",
    "        old_date = str(date_df)\n",
    "        split_date = old_date.split(\" \")\n",
    "        m = str(time.strptime(split_date[0], '%b').tm_mon)\n",
    "        d = split_date[1][:-1]\n",
    "        y = split_date[2]\n",
    "        if len(m) < 2:\n",
    "            m = f\"0{m}\"\n",
    "        if len(d) < 2:\n",
    "            d = f\"0{d}\"\n",
    "\n",
    "        df.loc[df[name_col] == date_df, name_col] = datetime.datetime(int(y), int(m), int(d)).strftime('%m-%d-%y')\n",
    "    return df"
   ]
  },
  {
   "cell_type": "code",
   "execution_count": 119,
   "metadata": {},
   "outputs": [
    {
     "name": "stdout",
     "output_type": "stream",
     "text": [
      "              date  s&p_open  s&p_high   s&p_low s&p_close   s&p_adj  \\\n",
      "0     May 28, 2021  4,210.77  4,218.36  4,203.57  4,204.11  4,204.11   \n",
      "1     May 27, 2021  4,201.94  4,213.38  4,197.78  4,200.88  4,200.88   \n",
      "2     May 26, 2021  4,191.59  4,202.61  4,184.11  4,195.99  4,195.99   \n",
      "3     May 25, 2021  4,205.94  4,213.42  4,182.52  4,188.13  4,188.13   \n",
      "4     May 24, 2021  4,170.16  4,209.52  4,170.16  4,197.05  4,197.05   \n",
      "...            ...       ...       ...       ...       ...       ...   \n",
      "1608  Jan 08, 2015  2,030.61  2,064.08  2,030.61  2,062.14  2,062.14   \n",
      "1609  Jan 07, 2015  2,005.55  2,029.61  2,005.55  2,025.90  2,025.90   \n",
      "1610  Jan 06, 2015  2,022.15  2,030.25  1,992.44  2,002.61  2,002.61   \n",
      "1611  Jan 05, 2015  2,054.44  2,054.44  2,017.34  2,020.58  2,020.58   \n",
      "1612  Jan 02, 2015  2,058.90  2,072.36  2,046.04  2,058.20  2,058.20   \n",
      "\n",
      "         s&p_volume nasdaq_open nasdaq_high nasdaq_low nasdaq_close  \\\n",
      "0     4,199,270,000   13,792.05   13,820.87  13,747.61    13,748.74   \n",
      "1     5,201,110,000   13,742.59   13,776.52  13,701.63    13,736.28   \n",
      "2     3,674,490,000   13,693.94   13,750.16  13,679.59    13,738.00   \n",
      "3     3,420,870,000   13,721.54   13,751.14  13,631.80    13,657.17   \n",
      "4     2,947,400,000   13,557.21   13,708.85  13,551.01    13,661.17   \n",
      "...             ...         ...         ...        ...          ...   \n",
      "1608  3,934,010,000    4,689.54    4,741.38   4,688.02     4,736.19   \n",
      "1609  3,805,480,000    4,626.84    4,652.72   4,613.90     4,650.47   \n",
      "1610  4,460,110,000    4,666.85    4,667.33   4,567.59     4,592.74   \n",
      "1611  3,799,120,000    4,700.34    4,702.77   4,641.46     4,652.57   \n",
      "1612  2,708,700,000    4,760.24    4,777.01   4,698.11     4,726.81   \n",
      "\n",
      "     nasdaq_adj  nasdaq_volume bitcoin_open bitcoin_high bitcoin_low  \\\n",
      "0     13,748.74  4,435,220,000    38,507.08    38,856.97   34,779.04   \n",
      "1     13,736.28  5,057,550,000    39,316.89    40,379.62   37,247.90   \n",
      "2     13,738.00  4,231,140,000    38,392.63    40,782.08   37,905.84   \n",
      "3     13,657.17  4,084,480,000    38,795.78    39,776.35   36,581.43   \n",
      "4     13,661.17  3,490,650,000    34,700.36    39,835.14   34,551.08   \n",
      "...         ...            ...          ...          ...         ...   \n",
      "1608   4,736.19  2,105,450,000       294.14       294.14      282.17   \n",
      "1609   4,650.47  1,957,950,000       286.08       298.75      283.08   \n",
      "1610   4,592.74  2,167,320,000       274.61       287.55      272.70   \n",
      "1611   4,652.57  1,794,470,000       265.08       278.34      265.08   \n",
      "1612   4,726.81  1,435,150,000       314.08       315.84      313.57   \n",
      "\n",
      "     bitcoin_close bitcoin_adj  bitcoin_volume  \n",
      "0        35,697.61   35,697.61  55,200,191,952  \n",
      "1        38,436.97   38,436.97  43,210,968,721  \n",
      "2        39,294.20   39,294.20  51,346,735,160  \n",
      "3        38,402.22   38,402.22  56,211,915,803  \n",
      "4        38,705.98   38,705.98  67,359,584,098  \n",
      "...            ...         ...             ...  \n",
      "1608        283.35      283.35      19,982,500  \n",
      "1609        294.34      294.34      24,866,800  \n",
      "1610        286.19      286.19      23,245,700  \n",
      "1611        274.47      274.47      43,962,800  \n",
      "1612        315.03      315.03       7,860,650  \n",
      "\n",
      "[1613 rows x 19 columns]\n",
      "              date s&p_open s&p_high  s&p_low s&p_close  s&p_adj   s&p_volume  \\\n",
      "0     May 28, 2021  4210.77  4218.36  4203.57   4204.11  4204.11  4.19927e+09   \n",
      "1     May 27, 2021  4201.94  4213.38  4197.78   4200.88  4200.88  5.20111e+09   \n",
      "2     May 26, 2021  4191.59  4202.61  4184.11   4195.99  4195.99  3.67449e+09   \n",
      "3     May 25, 2021  4205.94  4213.42  4182.52   4188.13  4188.13  3.42087e+09   \n",
      "4     May 24, 2021  4170.16  4209.52  4170.16   4197.05  4197.05   2.9474e+09   \n",
      "...            ...      ...      ...      ...       ...      ...          ...   \n",
      "1608  Jan 08, 2015  2030.61  2064.08  2030.61   2062.14  2062.14  3.93401e+09   \n",
      "1609  Jan 07, 2015  2005.55  2029.61  2005.55    2025.9   2025.9  3.80548e+09   \n",
      "1610  Jan 06, 2015  2022.15  2030.25  1992.44   2002.61  2002.61  4.46011e+09   \n",
      "1611  Jan 05, 2015  2054.44  2054.44  2017.34   2020.58  2020.58  3.79912e+09   \n",
      "1612  Jan 02, 2015   2058.9  2072.36  2046.04    2058.2   2058.2   2.7087e+09   \n",
      "\n",
      "     nasdaq_open nasdaq_high nasdaq_low nasdaq_close nasdaq_adj nasdaq_volume  \\\n",
      "0          13792     13820.9    13747.6      13748.7    13748.7   4.43522e+09   \n",
      "1        13742.6     13776.5    13701.6      13736.3    13736.3   5.05755e+09   \n",
      "2        13693.9     13750.2    13679.6        13738      13738   4.23114e+09   \n",
      "3        13721.5     13751.1    13631.8      13657.2    13657.2   4.08448e+09   \n",
      "4        13557.2     13708.9      13551      13661.2    13661.2   3.49065e+09   \n",
      "...          ...         ...        ...          ...        ...           ...   \n",
      "1608     4689.54     4741.38    4688.02      4736.19    4736.19   2.10545e+09   \n",
      "1609     4626.84     4652.72     4613.9      4650.47    4650.47   1.95795e+09   \n",
      "1610     4666.85     4667.33    4567.59      4592.74    4592.74   2.16732e+09   \n",
      "1611     4700.34     4702.77    4641.46      4652.57    4652.57   1.79447e+09   \n",
      "1612     4760.24     4777.01    4698.11      4726.81    4726.81   1.43515e+09   \n",
      "\n",
      "     bitcoin_open bitcoin_high bitcoin_low bitcoin_close bitcoin_adj  \\\n",
      "0         38507.1        38857       34779       35697.6     35697.6   \n",
      "1         39316.9      40379.6     37247.9         38437       38437   \n",
      "2         38392.6      40782.1     37905.8       39294.2     39294.2   \n",
      "3         38795.8      39776.3     36581.4       38402.2     38402.2   \n",
      "4         34700.4      39835.1     34551.1         38706       38706   \n",
      "...           ...          ...         ...           ...         ...   \n",
      "1608       294.14       294.14      282.17        283.35      283.35   \n",
      "1609       286.08       298.75      283.08        294.34      294.34   \n",
      "1610       274.61       287.55       272.7        286.19      286.19   \n",
      "1611       265.08       278.34      265.08        274.47      274.47   \n",
      "1612       265.08       315.84      313.57        315.03      315.03   \n",
      "\n",
      "     bitcoin_volume  \n",
      "0       5.52002e+10  \n",
      "1        4.3211e+10  \n",
      "2       5.13467e+10  \n",
      "3       5.62119e+10  \n",
      "4       6.73596e+10  \n",
      "...             ...  \n",
      "1608    1.99825e+07  \n",
      "1609    2.48668e+07  \n",
      "1610    2.32457e+07  \n",
      "1611    4.39628e+07  \n",
      "1612    7.86065e+06  \n",
      "\n",
      "[1613 rows x 19 columns]\n"
     ]
    }
   ],
   "source": [
    "print(stock_df)\n",
    "new_stock = remove_duplicatives(stock_df)\n",
    "new_stock = new_stock.reset_index(drop=True)\n",
    "new_stock = convert_str_to_num(new_stock)\n",
    "print(new_stock)"
   ]
  },
  {
   "cell_type": "markdown",
   "metadata": {},
   "source": [
    "The add_difference_column function adds a column to each stock in which it shows in percentages the difference of the price from yesterday:"
   ]
  },
  {
   "cell_type": "code",
   "execution_count": 120,
   "metadata": {},
   "outputs": [
    {
     "name": "stdout",
     "output_type": "stream",
     "text": [
      "              date s&p_open s&p_high  s&p_low s&p_close  s&p_adj   s&p_volume  \\\n",
      "0     May 28, 2021  4210.77  4218.36  4203.57   4204.11  4204.11  4.19927e+09   \n",
      "1     May 27, 2021  4201.94  4213.38  4197.78   4200.88  4200.88  5.20111e+09   \n",
      "2     May 26, 2021  4191.59  4202.61  4184.11   4195.99  4195.99  3.67449e+09   \n",
      "3     May 25, 2021  4205.94  4213.42  4182.52   4188.13  4188.13  3.42087e+09   \n",
      "4     May 24, 2021  4170.16  4209.52  4170.16   4197.05  4197.05   2.9474e+09   \n",
      "...            ...      ...      ...      ...       ...      ...          ...   \n",
      "1608  Jan 08, 2015  2030.61  2064.08  2030.61   2062.14  2062.14  3.93401e+09   \n",
      "1609  Jan 07, 2015  2005.55  2029.61  2005.55    2025.9   2025.9  3.80548e+09   \n",
      "1610  Jan 06, 2015  2022.15  2030.25  1992.44   2002.61  2002.61  4.46011e+09   \n",
      "1611  Jan 05, 2015  2054.44  2054.44  2017.34   2020.58  2020.58  3.79912e+09   \n",
      "1612  Jan 02, 2015   2058.9  2072.36  2046.04    2058.2   2058.2   2.7087e+09   \n",
      "\n",
      "     nasdaq_open nasdaq_high nasdaq_low  ... nasdaq_volume bitcoin_open  \\\n",
      "0          13792     13820.9    13747.6  ...   4.43522e+09      38507.1   \n",
      "1        13742.6     13776.5    13701.6  ...   5.05755e+09      39316.9   \n",
      "2        13693.9     13750.2    13679.6  ...   4.23114e+09      38392.6   \n",
      "3        13721.5     13751.1    13631.8  ...   4.08448e+09      38795.8   \n",
      "4        13557.2     13708.9      13551  ...   3.49065e+09      34700.4   \n",
      "...          ...         ...        ...  ...           ...          ...   \n",
      "1608     4689.54     4741.38    4688.02  ...   2.10545e+09       294.14   \n",
      "1609     4626.84     4652.72     4613.9  ...   1.95795e+09       286.08   \n",
      "1610     4666.85     4667.33    4567.59  ...   2.16732e+09       274.61   \n",
      "1611     4700.34     4702.77    4641.46  ...   1.79447e+09       265.08   \n",
      "1612     4760.24     4777.01    4698.11  ...   1.43515e+09       265.08   \n",
      "\n",
      "     bitcoin_high bitcoin_low bitcoin_close bitcoin_adj bitcoin_volume  \\\n",
      "0           38857       34779       35697.6     35697.6    5.52002e+10   \n",
      "1         40379.6     37247.9         38437       38437     4.3211e+10   \n",
      "2         40782.1     37905.8       39294.2     39294.2    5.13467e+10   \n",
      "3         39776.3     36581.4       38402.2     38402.2    5.62119e+10   \n",
      "4         39835.1     34551.1         38706       38706    6.73596e+10   \n",
      "...           ...         ...           ...         ...            ...   \n",
      "1608       294.14      282.17        283.35      283.35    1.99825e+07   \n",
      "1609       298.75      283.08        294.34      294.34    2.48668e+07   \n",
      "1610       287.55       272.7        286.19      286.19    2.32457e+07   \n",
      "1611       278.34      265.08        274.47      274.47    4.39628e+07   \n",
      "1612       315.84      313.57        315.03      315.03    7.86065e+06   \n",
      "\n",
      "     s&p_change         nasdaq_change       bitcoin_change  \n",
      "0        0.000%                0.000%               0.000%  \n",
      "1       -0.077%               -0.091%               7.674%  \n",
      "2       -0.116%                0.013%                2.23%  \n",
      "3       -0.187%               -0.588%               -2.27%  \n",
      "4        0.213%                0.029%               0.791%  \n",
      "...         ...                   ...                  ...  \n",
      "1608     0.848%                0.683%              -2.431%  \n",
      "1609    -1.757%                -1.81%               3.879%  \n",
      "1610     -1.15%  -1.2409999999999999%              -2.769%  \n",
      "1611     0.897%                1.303%              -4.095%  \n",
      "1612     1.862%   1.5959999999999999%  14.777999999999999%  \n",
      "\n",
      "[1613 rows x 22 columns]\n"
     ]
    },
    {
     "name": "stderr",
     "output_type": "stream",
     "text": [
      "<>:7: SyntaxWarning: \"is not\" with a literal. Did you mean \"!=\"?\n",
      "<>:7: SyntaxWarning: \"is not\" with a literal. Did you mean \"!=\"?\n",
      "<ipython-input-120-3658d8cdbdc8>:7: SyntaxWarning: \"is not\" with a literal. Did you mean \"!=\"?\n",
      "  if num is not 0:\n"
     ]
    }
   ],
   "source": [
    "def add_difference_column(df, stocks_name):\n",
    "    copy_df = df.copy()\n",
    "    for stock in stocks_name:\n",
    "        new_column = []\n",
    "        dates = copy_df[f'{stock}_close'].tolist()\n",
    "        for num in range(len(dates)):\n",
    "            if num is not 0:\n",
    "                new_column.append(f\"{round((dates[num] - dates[num - 1]) / dates[num - 1],5) * 100}%\")\n",
    "            else:\n",
    "                new_column.append(f\"0.000%\")\n",
    "        copy_df[f'{stock}_change'] = new_column\n",
    "    return copy_df\n",
    "\n",
    "stocks_name = ['s&p', 'nasdaq', 'bitcoin']\n",
    "new_stock = add_difference_column(new_stock, stocks_name)\n",
    "print(new_stock)"
   ]
  },
  {
   "cell_type": "code",
   "execution_count": 121,
   "metadata": {},
   "outputs": [],
   "source": [
    "api_key = \"zaKdM349KR3AXk37jofIwTHWU\"\n",
    "api_secret_key = \"QrQpPP78FgjQPergvaPmjFTyCS8Ga4sMcWOQV17PhdeWiAkkhK\"\n",
    "bearer_token = \"AAAAAAAAAAAAAAAAAAAAABgWQAEAAAAAZ50NfLPGLEmZYhDNOsdkIRmX%2Fx4%3DdpOkgHfDo6ahomjV9MgtnzUXSDRj1w8l3WtYqkUdMOn0w4LgbR\"\n",
    "access_token = \"1397297249621774339-l7b0ZDzNlRRa5ArSKCIty0kfmnnQuZ\"\n",
    "access_token_secret = \"5APdwLSgtAtSk5DEBTri4GhKBqluHITBYxHw5xoCtimax\"\n",
    "\n",
    "# Create The Authenticate Object\n",
    "authenticate = tweepy.OAuthHandler(api_key, api_secret_key)\n",
    "\n",
    "# Set The Access Token & Access Token Secret\n",
    "authenticate.set_access_token(access_token, access_token_secret)\n",
    "\n",
    "# Create The API Object\n",
    "api = tweepy.API(authenticate, wait_on_rate_limit = True)"
   ]
  },
  {
   "cell_type": "markdown",
   "metadata": {},
   "source": [
    "get_elon_tweets create dataframe that cointain dates and text of elon mask's tweets: (was taken from the account of elon mask on teitter)"
   ]
  },
  {
   "cell_type": "code",
   "execution_count": 122,
   "metadata": {},
   "outputs": [],
   "source": [
    "def get_elon_tweets():\n",
    "  \n",
    "    screen_name = 'elonmusk'\n",
    "    count = 200\n",
    "    new_tweets = api.user_timeline(screen_name = screen_name,count = 200)\n",
    "    alltweets = []\n",
    "    alltweets.extend(new_tweets) \n",
    "    oldest_tweet = alltweets[-1].id - 1\n",
    "    while len(new_tweets)>0:\n",
    "        new_tweets = api.user_timeline(screen_name = screen_name,count = 200)\n",
    "        alltweets.extend(new_tweets)\n",
    "        oldest_tweet = alltweets[-1].id - 1\n",
    "    tweets_list = [[tweet.created_at, tweet.id, tweet.text] for tweet in alltweets if \"dogecoin\" in tweet.text.lower()]\n",
    "    tweets_df = pd.DataFrame(tweets_list)\n",
    "    tweets_df.columns = [\"date\",\"Id\",\"Tweet\"]\n",
    "    return tweets_df\n"
   ]
  },
  {
   "cell_type": "markdown",
   "metadata": {},
   "source": [
    "get_trump_tweets create dataframe that cointain dates and text of trump's tweets that is relative to the stock market: (Because Trump is blocked by Twitter - we went to a site that contains all his tweets related to the stock market)"
   ]
  },
  {
   "cell_type": "code",
   "execution_count": 123,
   "metadata": {},
   "outputs": [],
   "source": [
    "def get_trump_tweets():\n",
    "    driver = webdriver.Chrome(executable_path=ChromeDriverManager().install())\n",
    "    driver.implicitly_wait(10)\n",
    "    driver.get(f\"https://www.bloomberg.com/features/trump-tweets-market\")\n",
    "    try:\n",
    "        checkbox = driver.find_element_by_id(\"recaptcha-anchor\")\n",
    "        checkbox.click()\n",
    "        time.sleep(10)\n",
    "    except Exception:\n",
    "        pass\n",
    "\n",
    "    trump_dates = []\n",
    "    trump_text = []\n",
    "    tweets = driver.find_elements_by_class_name(\"phone__tweet\")\n",
    "    for tweet in tweets:\n",
    "        elements = tweet.find_elements_by_tag_name(\"p\")\n",
    "        trump_dates.append(elements[2].text[2:])\n",
    "        trump_text.append(elements[3].text)\n",
    "\n",
    "    trump_stats = pd.DataFrame(\n",
    "        {\n",
    "        \"date\" : trump_dates,\n",
    "        \"Trump_Tweet\": trump_text,\n",
    "        })\n",
    "\n",
    "    driver.close()\n",
    "    print(trump_stats)\n",
    "    return trump_stats"
   ]
  },
  {
   "cell_type": "code",
   "execution_count": 124,
   "metadata": {},
   "outputs": [
    {
     "name": "stderr",
     "output_type": "stream",
     "text": [
      "\n",
      "\n",
      "====== WebDriver manager ======\n",
      "Current google-chrome version is 91.0.4472\n",
      "Get LATEST driver version for 91.0.4472\n",
      "Driver [C:\\Users\\Amit Shukrun\\.wdm\\drivers\\chromedriver\\win32\\91.0.4472.101\\chromedriver.exe] found in cache\n"
     ]
    },
    {
     "name": "stdout",
     "output_type": "stream",
     "text": [
      "          date                                        Trump_Tweet\n",
      "0    01 Jan 21  Finished off the year with the highest Stock M...\n",
      "1    01 Jan 21  Finished off the year with the highest Stock M...\n",
      "2    30 Dec 20  The Wall Street Journal’s very boring & incohe...\n",
      "3    17 Dec 20  All-time Stock Market high. The Vaccine and th...\n",
      "4    09 Dec 20             STOCK MARKETS AT NEW ALL TIME HIGHS!!!\n",
      "..         ...                                                ...\n",
      "765  30 Jan 17  Where was all the outrage from Democrats and t...\n",
      "766  26 Jan 17  of jobs and companies lost. If Mexico is unwil...\n",
      "767  24 Jan 17  Will be meeting at 9:00 with top automobile ex...\n",
      "768  23 Jan 17  Busy week planned with a heavy focus on jobs a...\n",
      "769  20 Jan 17  We will bring back our jobs. We will bring bac...\n",
      "\n",
      "[770 rows x 2 columns]\n",
      "          date                                        Trump_Tweet\n",
      "0    01 Jan 21  Finished off the year with the highest Stock M...\n",
      "1    01 Jan 21  Finished off the year with the highest Stock M...\n",
      "2    30 Dec 20  The Wall Street Journal’s very boring & incohe...\n",
      "3    17 Dec 20  All-time Stock Market high. The Vaccine and th...\n",
      "4    09 Dec 20             STOCK MARKETS AT NEW ALL TIME HIGHS!!!\n",
      "..         ...                                                ...\n",
      "765  30 Jan 17  Where was all the outrage from Democrats and t...\n",
      "766  26 Jan 17  of jobs and companies lost. If Mexico is unwil...\n",
      "767  24 Jan 17  Will be meeting at 9:00 with top automobile ex...\n",
      "768  23 Jan 17  Busy week planned with a heavy focus on jobs a...\n",
      "769  20 Jan 17  We will bring back our jobs. We will bring bac...\n",
      "\n",
      "[770 rows x 2 columns]\n"
     ]
    }
   ],
   "source": [
    "trump = get_trump_tweets()\n",
    "print(trump)"
   ]
  },
  {
   "cell_type": "code",
   "execution_count": 125,
   "metadata": {},
   "outputs": [
    {
     "name": "stdout",
     "output_type": "stream",
     "text": [
      "          date                                        Trump_Tweet\n",
      "0    01 Jan 21  Finished off the year with the highest Stock M...\n",
      "1    30 Dec 20  The Wall Street Journal’s very boring & incohe...\n",
      "2    17 Dec 20  All-time Stock Market high. The Vaccine and th...\n",
      "3    09 Dec 20             STOCK MARKETS AT NEW ALL TIME HIGHS!!!\n",
      "4    05 Dec 20            STOCK MARKET REACHES NEW ALL-TIME HIGH!\n",
      "..         ...                                                ...\n",
      "450  30 Jan 17  Where was all the outrage from Democrats and t...\n",
      "451  26 Jan 17  of jobs and companies lost. If Mexico is unwil...\n",
      "452  24 Jan 17  Will be meeting at 9:00 with top automobile ex...\n",
      "453  23 Jan 17  Busy week planned with a heavy focus on jobs a...\n",
      "454  20 Jan 17  We will bring back our jobs. We will bring bac...\n",
      "\n",
      "[455 rows x 2 columns]\n"
     ]
    }
   ],
   "source": [
    "new_trump = remove_duplicatives(trump)\n",
    "new_trump = new_trump.reset_index(drop=True)\n",
    "print(new_trump)"
   ]
  },
  {
   "cell_type": "code",
   "execution_count": 126,
   "metadata": {},
   "outputs": [
    {
     "name": "stdout",
     "output_type": "stream",
     "text": [
      "                 date                   Id  \\\n",
      "0 2021-06-25 11:13:39  1408382877478363137   \n",
      "1 2021-06-25 02:00:20  1408243632445050887   \n",
      "\n",
      "                                               Tweet  \n",
      "0                 @DogecoinRise Starship Super Heavy  \n",
      "1  @hiddin2urleft @ItsDogeCoin @Investments_CEO @...  \n"
     ]
    }
   ],
   "source": [
    "elon = get_elon_tweets()\n",
    "print(elon)"
   ]
  },
  {
   "cell_type": "code",
   "execution_count": 127,
   "metadata": {},
   "outputs": [
    {
     "name": "stdout",
     "output_type": "stream",
     "text": [
      "         date                   Id  \\\n",
      "0  1624568400  1408382877478363137   \n",
      "1  1624568400  1408243632445050887   \n",
      "\n",
      "                                               Tweet  \n",
      "0                 @DogecoinRise Starship Super Heavy  \n",
      "1  @hiddin2urleft @ItsDogeCoin @Investments_CEO @...  \n"
     ]
    }
   ],
   "source": [
    "new_elon = remove_duplicatives(elon)\n",
    "new_elon = new_elon.reset_index(drop=True)\n",
    "new_elon = convert_datetime_sec(new_elon)\n",
    "print(new_elon)"
   ]
  },
  {
   "cell_type": "code",
   "execution_count": 128,
   "metadata": {},
   "outputs": [
    {
     "name": "stdout",
     "output_type": "stream",
     "text": [
      "0     1451512800\n",
      "1     1483135200\n",
      "2     1514671200\n",
      "3     1546207200\n",
      "4     1577743200\n",
      "5     1609365600\n",
      "6     1421532000\n",
      "7     1452981600\n",
      "8     1484431200\n",
      "9     1515967200\n",
      "10    1547935200\n",
      "11    1579384800\n",
      "12    1610920800\n",
      "13    1423951200\n",
      "14    1455400800\n",
      "15    1487455200\n",
      "16    1518904800\n",
      "17    1550354400\n",
      "18    1581804000\n",
      "19    1613340000\n",
      "20    1427922000\n",
      "21    1458770400\n",
      "22    1492030800\n",
      "23    1522274400\n",
      "24    1555534800\n",
      "25    1586379600\n",
      "26    1617310800\n",
      "27    1432414800\n",
      "28    1464469200\n",
      "29    1495918800\n",
      "30    1527368400\n",
      "31    1558818000\n",
      "32    1590267600\n",
      "33    1621803600\n",
      "34    1435784400\n",
      "35    1467493200\n",
      "36    1499029200\n",
      "37    1530565200\n",
      "38    1562101200\n",
      "39    1593637200\n",
      "40    1441486800\n",
      "41    1472936400\n",
      "42    1504386000\n",
      "43    1535835600\n",
      "44    1567285200\n",
      "45    1599339600\n",
      "46    1448402400\n",
      "47    1479852000\n",
      "48    1511215200\n",
      "49    1543269600\n",
      "50    1574805600\n",
      "51    1606255200\n",
      "52    1450908000\n",
      "53    1482530400\n",
      "54    1514066400\n",
      "55    1545602400\n",
      "56    1577138400\n",
      "57    1608760800\n",
      "dtype: int32\n"
     ]
    }
   ],
   "source": [
    "holidays = create_holidays_date()\n",
    "print(holidays)"
   ]
  },
  {
   "cell_type": "code",
   "execution_count": 129,
   "metadata": {},
   "outputs": [
    {
     "name": "stdout",
     "output_type": "stream",
     "text": [
      "            date s&p_open s&p_high  s&p_low s&p_close  s&p_adj   s&p_volume  \\\n",
      "0     1622149200  4210.77  4218.36  4203.57   4204.11  4204.11  4.19927e+09   \n",
      "1     1622062800  4201.94  4213.38  4197.78   4200.88  4200.88  5.20111e+09   \n",
      "2     1621976400  4191.59  4202.61  4184.11   4195.99  4195.99  3.67449e+09   \n",
      "3     1621890000  4205.94  4213.42  4182.52   4188.13  4188.13  3.42087e+09   \n",
      "4     1621803600  4170.16  4209.52  4170.16   4197.05  4197.05   2.9474e+09   \n",
      "...          ...      ...      ...      ...       ...      ...          ...   \n",
      "1608  1420668000  2030.61  2064.08  2030.61   2062.14  2062.14  3.93401e+09   \n",
      "1609  1420581600  2005.55  2029.61  2005.55    2025.9   2025.9  3.80548e+09   \n",
      "1610  1420495200  2022.15  2030.25  1992.44   2002.61  2002.61  4.46011e+09   \n",
      "1611  1420408800  2054.44  2054.44  2017.34   2020.58  2020.58  3.79912e+09   \n",
      "1612  1420149600   2058.9  2072.36  2046.04    2058.2   2058.2   2.7087e+09   \n",
      "\n",
      "     nasdaq_open nasdaq_high nasdaq_low  ... bitcoin_low bitcoin_close  \\\n",
      "0          13792     13820.9    13747.6  ...       34779       35697.6   \n",
      "1        13742.6     13776.5    13701.6  ...     37247.9         38437   \n",
      "2        13693.9     13750.2    13679.6  ...     37905.8       39294.2   \n",
      "3        13721.5     13751.1    13631.8  ...     36581.4       38402.2   \n",
      "4        13557.2     13708.9      13551  ...     34551.1         38706   \n",
      "...          ...         ...        ...  ...         ...           ...   \n",
      "1608     4689.54     4741.38    4688.02  ...      282.17        283.35   \n",
      "1609     4626.84     4652.72     4613.9  ...      283.08        294.34   \n",
      "1610     4666.85     4667.33    4567.59  ...       272.7        286.19   \n",
      "1611     4700.34     4702.77    4641.46  ...      265.08        274.47   \n",
      "1612     4760.24     4777.01    4698.11  ...      313.57        315.03   \n",
      "\n",
      "     bitcoin_adj bitcoin_volume s&p_change         nasdaq_change  \\\n",
      "0        35697.6    5.52002e+10     0.000%                0.000%   \n",
      "1          38437     4.3211e+10    -0.077%               -0.091%   \n",
      "2        39294.2    5.13467e+10    -0.116%                0.013%   \n",
      "3        38402.2    5.62119e+10    -0.187%               -0.588%   \n",
      "4          38706    6.73596e+10     0.213%                0.029%   \n",
      "...          ...            ...        ...                   ...   \n",
      "1608      283.35    1.99825e+07     0.848%                0.683%   \n",
      "1609      294.34    2.48668e+07    -1.757%                -1.81%   \n",
      "1610      286.19    2.32457e+07     -1.15%  -1.2409999999999999%   \n",
      "1611      274.47    4.39628e+07     0.897%                1.303%   \n",
      "1612      315.03    7.86065e+06     1.862%   1.5959999999999999%   \n",
      "\n",
      "           bitcoin_change is_trump_tweet is_elon_tweet is_holiday  \n",
      "0                  0.000%              0             0          0  \n",
      "1                  7.674%              0             0          0  \n",
      "2                   2.23%              0             0          0  \n",
      "3                  -2.27%              0             0          0  \n",
      "4                  0.791%              0             0          1  \n",
      "...                   ...            ...           ...        ...  \n",
      "1608              -2.431%              0             0          0  \n",
      "1609               3.879%              0             0          0  \n",
      "1610              -2.769%              0             0          0  \n",
      "1611              -4.095%              0             0          0  \n",
      "1612  14.777999999999999%              0             0          0  \n",
      "\n",
      "[1613 rows x 25 columns]\n"
     ]
    }
   ],
   "source": [
    "new_stock = convert_datetime_sec(new_stock)\n",
    "new_trump = convert_datetime_sec(new_trump)\n",
    "new_column = compare_dates_df_stock(new_stock, new_trump.date)\n",
    "new_stock[\"is_trump_tweet\"] = new_column\n",
    "new_column = compare_dates_df_stock(new_stock, new_elon.date)\n",
    "new_stock[\"is_elon_tweet\"] = new_column\n",
    "new_column = compare_dates_df_stock(new_stock, holidays)\n",
    "new_stock[\"is_holiday\"] = new_column\n",
    "print(new_stock)"
   ]
  },
  {
   "cell_type": "markdown",
   "metadata": {},
   "source": [
    "_______________________\n",
    "## visualization"
   ]
  },
  {
   "cell_type": "code",
   "execution_count": null,
   "metadata": {},
   "outputs": [],
   "source": [
    "doge_df = pd.read_csv(\"df_dogi_coin.csv\",usecols = ['DogiCoin_date','DogiCoin_high','DogiCoin_low','DogiCoin_price'], index_col=\"DogiCoin_date\",parse_dates=['DogiCoin_date'])\n",
    "bit_df = pd.read_csv(\"df_stocks.csv\",usecols = ['bitcoin_date','bitcoin_high','bitcoin_low','bitcoin_price'], index_col=\"bitcoin_date\",parse_dates=['bitcoin_date'])\n",
    "\n",
    "bit_df.replace(',','', regex=True, inplace=True)\n",
    "bit_df = bit_df.astype(float)\n",
    "print(doge_df)\n",
    "print(bit_df)"
   ]
  },
  {
   "cell_type": "code",
   "execution_count": null,
   "metadata": {},
   "outputs": [],
   "source": [
    "axd = doge_df.plot(figsize=(15,7), linewidth=2, title = \"Dogecoin from 22/02/21 to 01/06/21\")\n",
    "plt.xlabel('date',fontsize = 15)\n",
    "plt.ylabel('price',fontsize = 15);\n"
   ]
  },
  {
   "cell_type": "code",
   "execution_count": null,
   "metadata": {},
   "outputs": [],
   "source": [
    "axb = bit_df.plot(figsize=(15,7), linewidth=2, title = \"Bitcoin from 09/11/20 to 28/05/21\")\n",
    "plt.xlabel('date',fontsize = 15)\n",
    "plt.ylabel('price',fontsize = 15);"
   ]
  },
  {
   "cell_type": "code",
   "execution_count": null,
   "metadata": {},
   "outputs": [],
   "source": [
    "dogeTweets_df = pd.read_csv(\"ElonTweets(on Dogecoin).csv\")\n",
    "bitTweets_df = pd.read_csv(\"JackTweets(on Bitcoin).csv\")\n",
    "print(dogeTweets_df, bitTweets_df)"
   ]
  },
  {
   "cell_type": "code",
   "execution_count": null,
   "metadata": {},
   "outputs": [],
   "source": [
    "plt.style.use(\"fivethirtyeight\")\n",
    "doge_df = pd.read_csv(\"df_dogi_coin.csv\",usecols = ['DogiCoin_date','DogiCoin_open','DogiCoin_high','DogiCoin_low','DogiCoin_price'], index_col=\"DogiCoin_date\")\n",
    "dogeTweets = pd.read_csv(\"ElonTweets(on Dogecoin).csv\")\n",
    "print(doge_df)\n",
    "fig, ax = plt.subplots(figsize=(15,7))\n",
    "\n",
    "ax.plot(doge_df.index, doge_df[\"DogiCoin_price\"],linewidth = 2, alpha = .7, label='Price')\n",
    "ax.legend(loc=\"upper left\") \n",
    "ax.plot(doge_df.index, doge_df[\"DogiCoin_high\"],linewidth = 2, alpha = .7, label='High') \n",
    "ax.legend(loc=\"upper left\")       \n",
    "ax.plot(doge_df.index, doge_df[\"DogiCoin_low\"],linewidth = 2, alpha = .7, label='Low')\n",
    "ax.legend(loc=\"upper left\")   \n",
    "\n",
    "\n",
    "ax.plot(doge_df.index, doge_df[\"DogiCoin_price\"],\"bo\", label=\"Musk's Tweets\")\n",
    "ax.legend(loc=\"upper left\") \n",
    "ax.set(xlabel=\"Date between 22/02/21 -- 01/06/21\",\n",
    "       ylabel=\"Price\",\n",
    "       title=\"DOGECOIN on Elon Musk's Tweets\")\n",
    "\n",
    "ax.xaxis.set_major_locator(mdates.WeekdayLocator(interval=10))\n",
    "ax.xaxis.set_major_formatter(mdates.DateFormatter(\"%m-%d-%y\"))\n",
    "plt.gca().invert_xaxis()\n",
    "plt.xticks([])\n",
    "plt.show()"
   ]
  },
  {
   "cell_type": "code",
   "execution_count": null,
   "metadata": {},
   "outputs": [],
   "source": [
    "try:\n",
    "  screen_name = 'elonmusk'\n",
    "  count = 200\n",
    "\n",
    "  new_tweets = api.user_timeline(screen_name = screen_name,count = 200)\n",
    "\n",
    "  alltweets = []\n",
    "  alltweets.extend(new_tweets) \n",
    "  oldest_tweet = alltweets[-1].id - 1\n",
    "  while len(new_tweets)>0:\n",
    "    new_tweets = api.user_timeline(screen_name = screen_name,count = 200)\n",
    "    alltweets.extend(new_tweets)\n",
    "    oldest_tweet = alltweets[-1].id - 1\n",
    "\n",
    "\n",
    "  print(\"Pulling all\",len(alltweets),\"tweets\")\n",
    "\n",
    "  tweets_list = [[tweet.created_at, tweet.id, tweet.text] for tweet in alltweets if \"bitcoin\" in tweet.text.lower()]\n",
    "\n",
    "  # # Creation of dataframe from tweets list\n",
    "  # # Add or remove columns as you remove tweet information\n",
    "  tweets_df = pd.DataFrame(tweets_list)\n",
    "  tweets_df.columns = [\"Date\",\"Id\",\"Tweet\"]\n",
    "  tweets_df.to_csv(\"ElonTweets(on bitcoin).csv\")\n",
    "  tweets_df\n",
    "except:\n",
    "  print(\"Failed to fetch data. Run once again ;)\")"
   ]
  },
  {
   "cell_type": "code",
   "execution_count": null,
   "metadata": {},
   "outputs": [],
   "source": [
    "bit_df = pd.read_csv(\"df_stocks.csv\",usecols = ['bitcoin_date','bitcoin_high','bitcoin_low','bitcoin_price'])\n",
    "df2 = convert_str_to_date(bit_df, 'bitcoin_date')\n",
    "\n",
    "for column in df2.columns:\n",
    "    if column == 'bitcoin_date':\n",
    "        continue\n",
    "    for row in df2[column]:\n",
    "        if type(row) == str:\n",
    "            new_value = row.replace(\",\", \"\")\n",
    "        try:\n",
    "            df2.loc[df2[column] == row, column] = float(new_value)\n",
    "        except Exception:\n",
    "            df2.loc[df2[column] == row, column] = 0\n",
    "print(df2)\n",
    "\n",
    "\n",
    "df2['bitcoin_date'] = pd.to_datetime(df2['bitcoin_date'])\n",
    "start_date = '02-02-2020'\n",
    "end_date = '02-02-2021'\n",
    "mask = (bit_df['bitcoin_date'] > start_date) & (bit_df['bitcoin_date'] <= end_date)\n",
    "df2 = df2.loc[mask]\n",
    "\n",
    "\n",
    "\n",
    "bitTweets = pd.read_csv(\"ElonTweets(on bitcoin).csv\")\n",
    "fig, ax = plt.subplots(figsize=(15,7))\n",
    "\n",
    "ax.plot(df2.bitcoin_date, df2[\"bitcoin_price\"],linewidth = 2, alpha = .7, label='Price')\n",
    "ax.legend(loc=\"upper left\") \n",
    "ax.plot(df2.bitcoin_date, df2[\"bitcoin_high\"],linewidth = 2, alpha = .7, label='High') \n",
    "ax.legend(loc=\"upper left\")       \n",
    "ax.plot(df2.bitcoin_date, df2[\"bitcoin_low\"],linewidth = 2, alpha = .7, label='Low')\n",
    "ax.legend(loc=\"upper left\")   \n",
    "\n",
    "\n",
    "ax.plot(df2.bitcoin_date, df2[\"bitcoin_price\"],\"bo\", label=\"Musk's Tweets\")\n",
    "ax.legend(loc=\"upper left\") \n",
    "ax.set(xlabel=\"Date between 09/11/20 -- 28/05/21\",\n",
    "       ylabel=\"Price\",\n",
    "       title=\"Bitcoin on Elon Musk's Tweets\")\n",
    "\n",
    "ax.xaxis.set_major_locator(mdates.WeekdayLocator(interval=10))\n",
    "ax.xaxis.set_major_formatter(mdates.DateFormatter(\"%m-%d-%y\"))\n",
    "plt.xticks([])\n",
    "\n",
    "\n",
    "plt.show()"
   ]
  },
  {
   "cell_type": "code",
   "execution_count": null,
   "metadata": {},
   "outputs": [],
   "source": [
    "copy_df = stock_df[['date', f\"s&p_high\", f\"s&p_low\", f\"s&p_close\"]]\n",
    "copy_df = convert_str_to_num(copy_df)\n",
    "copy_df = convert_str_to_date(copy_df, \"date\")\n",
    "copy_df =  copy_df.iloc[200:370,:]\n",
    "copy_df = copy_df.reset_index(drop=True)\n",
    "print(copy_df)\n",
    "\n",
    "axd = copy_df.plot(figsize=(15,7),linewidth=1, title = \"S&P500 from 10/12/19 to 12/08/20\")\n",
    "plt.xlabel('date',fontsize = 15)\n",
    "plt.ylabel('price',fontsize = 15);\n",
    "plt.gca().invert_xaxis()\n",
    "ax.xaxis.set_major_locator(mdates.WeekdayLocator(interval=10))\n",
    "ax.xaxis.set_major_formatter(mdates.DateFormatter(\"%m-%d-%y\"))\n",
    "plt.xticks([])\n",
    "plt.show()"
   ]
  },
  {
   "cell_type": "code",
   "execution_count": null,
   "metadata": {},
   "outputs": [],
   "source": [
    "copy_df['date'] = pd.to_datetime(copy_df['date'])\n",
    "start_date = '12-10-2019'\n",
    "end_date = '08-12-2020'\n",
    "trump = (copy_df['date'] > start_date) & (copy_df['date'] <= end_date)\n",
    "\n",
    "\n",
    "bitTweets = pd.read_csv(\"trump_stats.csv\")\n",
    "fig, ax = plt.subplots(figsize=(15,7))\n",
    "\n",
    "ax.plot(copy_df['date'], copy_df[\"s&p_close\"],linewidth = 2, alpha = .7, label='Price')\n",
    "ax.legend(loc=\"upper left\") \n",
    "ax.plot(copy_df['date'], copy_df[\"s&p_high\"],linewidth = 2, alpha = .7, label='High') \n",
    "ax.legend(loc=\"upper left\")       \n",
    "ax.plot(copy_df['date'], copy_df[\"s&p_low\"],linewidth = 2, alpha = .7, label='Low')\n",
    "ax.legend(loc=\"upper left\")   \n",
    "\n",
    "\n",
    "ax.plot(copy_df['date'], copy_df[\"s&p_close\"],\"bo\", label=\"Trump Tweets\")\n",
    "ax.legend(loc=\"upper left\") \n",
    "ax.set(xlabel=\"Date between 09/11/20 -- 28/05/21\",\n",
    "       ylabel=\"Price\",\n",
    "       title=\"S&P500 on Trump Tweets\")\n",
    "\n",
    "ax.xaxis.set_major_locator(mdates.WeekdayLocator(interval=10))\n",
    "ax.xaxis.set_major_formatter(mdates.DateFormatter(\"%m-%d-%y\"))\n",
    "plt.xticks([])\n",
    "\n",
    "\n",
    "plt.show()"
   ]
  },
  {
   "cell_type": "code",
   "execution_count": null,
   "metadata": {},
   "outputs": [],
   "source": [
    "copy_df = stock_df[['date', f\"nasdaq_high\", f\"nasdaq_low\", f\"nasdaq_close\"]]\n",
    "copy_df = convert_str_to_num(copy_df)\n",
    "copy_df = convert_str_to_date(copy_df, \"date\")\n",
    "copy_df =  copy_df.iloc[500:720,:]\n",
    "copy_df = copy_df.reset_index(drop=True)\n",
    "print(copy_df)\n",
    "\n",
    "\n",
    "axd = copy_df.plot(figsize=(15,7),linewidth=1, title = \"Nasdaq from 20/07/18 to 05/06/19\")\n",
    "plt.xlabel('date',fontsize = 15)\n",
    "plt.ylabel('price',fontsize = 15);\n",
    "plt.gca().invert_xaxis()\n",
    "plt.xticks([])\n",
    "plt.show()"
   ]
  },
  {
   "cell_type": "code",
   "execution_count": null,
   "metadata": {},
   "outputs": [],
   "source": [
    "copy_df['date'] = pd.to_datetime(copy_df['date'])\n",
    "start_date = '07-20-2018'\n",
    "end_date = '06-05-2019'\n",
    "trump = (copy_df['date'] > start_date) & (copy_df['date'] <= end_date)\n",
    "\n",
    "bitTweets = pd.read_csv(\"trump_stats.csv\")\n",
    "fig, ax = plt.subplots(figsize=(15,7))\n",
    "\n",
    "ax.plot(copy_df['date'], copy_df[\"nasdaq_close\"],linewidth = 2, alpha = .7, label='Price')\n",
    "ax.legend(loc=\"upper left\") \n",
    "ax.plot(copy_df['date'], copy_df[\"nasdaq_high\"],linewidth = 2, alpha = .7, label='High') \n",
    "ax.legend(loc=\"upper left\")       \n",
    "ax.plot(copy_df['date'], copy_df[\"nasdaq_low\"],linewidth = 2, alpha = .7, label='Low')\n",
    "ax.legend(loc=\"upper left\")   \n",
    "\n",
    "\n",
    "ax.plot(copy_df['date'], copy_df[\"nasdaq_close\"],\"bo\", label=\"Trump Tweets\")\n",
    "ax.legend(loc=\"upper left\") \n",
    "ax.set(xlabel=\"Date between 09/11/20 -- 28/05/21\",\n",
    "       ylabel=\"Price\",\n",
    "       title=\"Nasdaq on Trump Tweets\")\n",
    "\n",
    "ax.xaxis.set_major_locator(mdates.WeekdayLocator(interval=10))\n",
    "ax.xaxis.set_major_formatter(mdates.DateFormatter(\"%m-%d-%y\"))\n",
    "plt.xticks([])\n",
    "\n",
    "\n",
    "plt.show()"
   ]
  },
  {
   "cell_type": "code",
   "execution_count": 130,
   "metadata": {},
   "outputs": [
    {
     "data": {
      "image/png": "[encoded data removed]",
      "text/plain": [
       "<Figure size 1152x720 with 1 Axes>"
      ]
     },
     "metadata": {},
     "output_type": "display_data"
    }
   ],
   "source": [
    "fig = plt.figure(figsize=(16, 10))\n",
    "fig.suptitle(\"Stocks market on holidays\", fontsize=24)\n",
    "\n",
    "ax2 = fig.add_subplot(3, 1, 1)\n",
    "ax2.set_title = 'On special days'\n",
    "labels = ['market up', 'market down']\n",
    "colors = ['#99ff99', '#ff9999']\n",
    "\n",
    "market_up = 0\n",
    "market_down = 0\n",
    "for index, row in new_stock.iterrows():\n",
    "    if int(row['nasdaq_open']) > int(row['nasdaq_close']) and row['is_holiday'] == 1:\n",
    "        market_down += 1\n",
    "    elif int(row['nasdaq_open']) < int(row['nasdaq_close']) and row['is_holiday'] == 1:\n",
    "        market_up += 1\n",
    "labels2 = ['market up - holidays', 'market down - holidays']\n",
    "sizes2 = [(market_up/ (market_up + market_down))*100, (market_down/ (market_up + market_down))*100]\n",
    "ax2.pie(sizes2, labels=labels2, shadow=True, startangle=90, autopct='%.1f', colors=colors)\n",
    "plt.show()"
   ]
  },
  {
   "cell_type": "markdown",
   "metadata": {},
   "source": [
    "# machine Learning"
   ]
  },
  {
   "cell_type": "markdown",
   "metadata": {},
   "source": [
    "## model - linear regration\n",
    "\n",
    "The linear regression model returns an equation that determines the relationship between the independent variables and the dependent variable.\n",
    "\n",
    "The equation for linear regression can be written as:\n",
    "\n",
    "Here, x1, x2,….xn represent the independent variables while the coefficients θ1, θ2, …. θn  represent the weights. \n",
    "For our problem statement, we do not have a set of independent variables. We have only the dates instead. Let us use the date column to extract features like – day, month, year,  mon/fri etc. and then fit a linear regression model.\n"
   ]
  },
  {
   "cell_type": "markdown",
   "metadata": {},
   "source": [
    "### train model\n",
    "LinearRegression fits a linear model with coefficients \n",
    " to minimize the residual sum of squares between the observed targets in the dataset, and the targets predicted by the linear approximation"
   ]
  },
  {
   "cell_type": "code",
   "execution_count": 109,
   "metadata": {},
   "outputs": [],
   "source": [
    "def train_model(X_train, y_train):\n",
    "    regr = linear_model.LinearRegression()\n",
    "    regr.fit(X_train, y_train)\n",
    "    return regr"
   ]
  },
  {
   "cell_type": "markdown",
   "metadata": {},
   "source": [
    "#### predict model\n",
    "Regression analysis is a form of predictive modelling technique which investigates the relationship between a dependent (target) and independent variable (s) (predictor). This technique is used for forecasting, time series modelling and finding the causal effect relationship between the variables."
   ]
  },
  {
   "cell_type": "code",
   "execution_count": 110,
   "metadata": {},
   "outputs": [],
   "source": [
    "def predict(trained_model, X_test):\n",
    "    x_pred = trained_model.predict(X_test)\n",
    "    return x_pred"
   ]
  },
  {
   "cell_type": "markdown",
   "metadata": {},
   "source": [
    "#### evaluate model\n",
    "r^2 (coefficient of determination) regression score function.\n",
    "\n",
    "Best possible score is 1.0 and it can be negative (because the model can be arbitrarily worse). A constant model that always predicts the expected value of y, disregarding the input features, would get a  score of 0.0."
   ]
  },
  {
   "cell_type": "code",
   "execution_count": 157,
   "metadata": {},
   "outputs": [],
   "source": [
    "def evaluate_performance(y_test,y_predicted):\n",
    "    return r2_score(y_test, y_predicted)"
   ]
  },
  {
   "cell_type": "code",
   "execution_count": 158,
   "metadata": {},
   "outputs": [],
   "source": [
    "def get_prediction(stock_type, new_stock):\n",
    "    copy_df = new_stock.copy()\n",
    "    copy_df = copy_df[['date', f\"{stock_type}_open\", f\"{stock_type}_close\", f\"{stock_type}_volume\", \"is_trump_tweet\", \"is_holiday\"]]\n",
    "    \n",
    "    copy_df = copy_df.iloc[::-1]\n",
    "    copy_df = copy_df.reset_index(drop=True)\n",
    "    cut = int(len(copy_df[f\"{stock_type}_open\"]) * 0.8)\n",
    "    train = copy_df[:cut]\n",
    "    valid = copy_df[cut:]\n",
    "\n",
    "    x_train = train.drop(f'{stock_type}_close', axis=1)\n",
    "    y_train = train[f'{stock_type}_close']\n",
    "    x_valid = valid.drop(f'{stock_type}_close', axis=1)\n",
    "    y_valid = valid[f'{stock_type}_close']\n",
    "\n",
    "    trained_model = train_model(x_train, y_train)\n",
    "    pred_vals = predict(trained_model, x_valid)\n",
    "    y_pred = pd.Series(pred_vals,index=x_valid.index)\n",
    "    results = evaluate_performance(y_valid, y_pred)\n",
    "    print(results)\n",
    "\n",
    "    valid['Predictions'] = 0\n",
    "    valid['Predictions'] = pred_vals\n",
    "\n",
    "    plt.plot(train[f'{stock_type}_close'], linewidth=2)\n",
    "    plt.plot(valid[[f'{stock_type}_close', 'Predictions']], linewidth=2)\n",
    "    plt.title(f'{stock_type} price prediction depends on time')\n",
    "    plt.xlabel('time (days)',fontsize = 15)\n",
    "    plt.ylabel('price',fontsize = 15)\n",
    "    plt.show()"
   ]
  },
  {
   "cell_type": "markdown",
   "metadata": {},
   "source": [
    "___________________________________________\n",
    "### get prediction for s&p:"
   ]
  },
  {
   "cell_type": "code",
   "execution_count": 159,
   "metadata": {},
   "outputs": [
    {
     "name": "stdout",
     "output_type": "stream",
     "text": [
      "0.9925864431035426\n"
     ]
    },
    {
     "name": "stderr",
     "output_type": "stream",
     "text": [
      "<ipython-input-158-57d85e01f36d>:22: SettingWithCopyWarning: \n",
      "A value is trying to be set on a copy of a slice from a DataFrame.\n",
      "Try using .loc[row_indexer,col_indexer] = value instead\n",
      "\n",
      "See the caveats in the documentation: https://pandas.pydata.org/pandas-docs/stable/user_guide/indexing.html#returning-a-view-versus-a-copy\n",
      "  valid['Predictions'] = 0\n",
      "<ipython-input-158-57d85e01f36d>:23: SettingWithCopyWarning: \n",
      "A value is trying to be set on a copy of a slice from a DataFrame.\n",
      "Try using .loc[row_indexer,col_indexer] = value instead\n",
      "\n",
      "See the caveats in the documentation: https://pandas.pydata.org/pandas-docs/stable/user_guide/indexing.html#returning-a-view-versus-a-copy\n",
      "  valid['Predictions'] = pred_vals\n"
     ]
    },
    {
     "data": {
      "image/png": "[encoded data removed]",
      "text/plain": [
       "<Figure size 432x288 with 1 Axes>"
      ]
     },
     "metadata": {
      "needs_background": "light"
     },
     "output_type": "display_data"
    }
   ],
   "source": [
    "get_prediction('s&p', new_stock)"
   ]
  },
  {
   "cell_type": "markdown",
   "metadata": {},
   "source": [
    "___________________________________________\n",
    "### get prediction for Nasdaq:"
   ]
  },
  {
   "cell_type": "code",
   "execution_count": 160,
   "metadata": {},
   "outputs": [
    {
     "name": "stdout",
     "output_type": "stream",
     "text": [
      "0.9938886778562525\n"
     ]
    },
    {
     "name": "stderr",
     "output_type": "stream",
     "text": [
      "<ipython-input-158-57d85e01f36d>:22: SettingWithCopyWarning: \n",
      "A value is trying to be set on a copy of a slice from a DataFrame.\n",
      "Try using .loc[row_indexer,col_indexer] = value instead\n",
      "\n",
      "See the caveats in the documentation: https://pandas.pydata.org/pandas-docs/stable/user_guide/indexing.html#returning-a-view-versus-a-copy\n",
      "  valid['Predictions'] = 0\n",
      "<ipython-input-158-57d85e01f36d>:23: SettingWithCopyWarning: \n",
      "A value is trying to be set on a copy of a slice from a DataFrame.\n",
      "Try using .loc[row_indexer,col_indexer] = value instead\n",
      "\n",
      "See the caveats in the documentation: https://pandas.pydata.org/pandas-docs/stable/user_guide/indexing.html#returning-a-view-versus-a-copy\n",
      "  valid['Predictions'] = pred_vals\n"
     ]
    },
    {
     "data": {
      "image/png": "[encoded data removed]",
      "text/plain": [
       "<Figure size 432x288 with 1 Axes>"
      ]
     },
     "metadata": {
      "needs_background": "light"
     },
     "output_type": "display_data"
    }
   ],
   "source": [
    "get_prediction('nasdaq', new_stock)"
   ]
  },
  {
   "cell_type": "markdown",
   "metadata": {},
   "source": [
    "_______________________________________________________________\n",
    "### get prediction for Bitcoin:"
   ]
  },
  {
   "cell_type": "code",
   "execution_count": 164,
   "metadata": {},
   "outputs": [
    {
     "name": "stdout",
     "output_type": "stream",
     "text": [
      "0.9939245530322462\n"
     ]
    },
    {
     "name": "stderr",
     "output_type": "stream",
     "text": [
      "<ipython-input-158-57d85e01f36d>:22: SettingWithCopyWarning: \n",
      "A value is trying to be set on a copy of a slice from a DataFrame.\n",
      "Try using .loc[row_indexer,col_indexer] = value instead\n",
      "\n",
      "See the caveats in the documentation: https://pandas.pydata.org/pandas-docs/stable/user_guide/indexing.html#returning-a-view-versus-a-copy\n",
      "  valid['Predictions'] = 0\n",
      "<ipython-input-158-57d85e01f36d>:23: SettingWithCopyWarning: \n",
      "A value is trying to be set on a copy of a slice from a DataFrame.\n",
      "Try using .loc[row_indexer,col_indexer] = value instead\n",
      "\n",
      "See the caveats in the documentation: https://pandas.pydata.org/pandas-docs/stable/user_guide/indexing.html#returning-a-view-versus-a-copy\n",
      "  valid['Predictions'] = pred_vals\n"
     ]
    },
    {
     "data": {
      "image/png": "[encoded data removed]",
      "text/plain": [
       "<Figure size 432x288 with 1 Axes>"
      ]
     },
     "metadata": {
      "needs_background": "light"
     },
     "output_type": "display_data"
    }
   ],
   "source": [
    "get_prediction('bitcoin', new_stock)"
   ]
  },
  {
   "cell_type": "code",
   "execution_count": null,
   "metadata": {},
   "outputs": [],
   "source": []
  }
 ],
 "metadata": {
  "kernelspec": {
   "display_name": "Python 3",
   "language": "python",
   "name": "python3"
  },
  "language_info": {
   "codemirror_mode": {
    "name": "ipython",
    "version": 3
   },
   "file_extension": ".py",
   "mimetype": "text/x-python",
   "name": "python",
   "nbconvert_exporter": "python",
   "pygments_lexer": "ipython3",
   "version": "3.8.5"
  }
 },
 "nbformat": 4,
 "nbformat_minor": 5
}
